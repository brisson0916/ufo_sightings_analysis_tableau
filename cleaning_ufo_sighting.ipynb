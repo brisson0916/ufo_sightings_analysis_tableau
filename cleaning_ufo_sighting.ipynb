{
 "cells": [
  {
   "cell_type": "markdown",
   "id": "f5fa7567",
   "metadata": {},
   "source": [
    "<div style=\"font-size:20px;\">\n",
    "Importing Data/Libraries and taking first glance\n",
    "</div>"
   ]
  },
  {
   "cell_type": "code",
   "execution_count": 3,
   "id": "25e969ba",
   "metadata": {},
   "outputs": [
    {
     "name": "stderr",
     "output_type": "stream",
     "text": [
      "/var/folders/zz/mssdg1lx09z8g0flcjnd5b9r0000gn/T/ipykernel_47598/579896928.py:9: DtypeWarning: Columns (5,9) have mixed types. Specify dtype option on import or set low_memory=False.\n",
      "  df = pd.read_csv('./ufo_sighting_data.csv')\n"
     ]
    },
    {
     "data": {
      "text/html": [
       "<div>\n",
       "<style scoped>\n",
       "    .dataframe tbody tr th:only-of-type {\n",
       "        vertical-align: middle;\n",
       "    }\n",
       "\n",
       "    .dataframe tbody tr th {\n",
       "        vertical-align: top;\n",
       "    }\n",
       "\n",
       "    .dataframe thead th {\n",
       "        text-align: right;\n",
       "    }\n",
       "</style>\n",
       "<table border=\"1\" class=\"dataframe\">\n",
       "  <thead>\n",
       "    <tr style=\"text-align: right;\">\n",
       "      <th></th>\n",
       "      <th>Date_time</th>\n",
       "      <th>city</th>\n",
       "      <th>state/province</th>\n",
       "      <th>country</th>\n",
       "      <th>UFO_shape</th>\n",
       "      <th>length_of_encounter_seconds</th>\n",
       "      <th>described_duration_of_encounter</th>\n",
       "      <th>description</th>\n",
       "      <th>date_documented</th>\n",
       "      <th>latitude</th>\n",
       "      <th>longitude</th>\n",
       "    </tr>\n",
       "  </thead>\n",
       "  <tbody>\n",
       "    <tr>\n",
       "      <th>0</th>\n",
       "      <td>10/10/1949 20:30</td>\n",
       "      <td>san marcos</td>\n",
       "      <td>tx</td>\n",
       "      <td>us</td>\n",
       "      <td>cylinder</td>\n",
       "      <td>2700</td>\n",
       "      <td>45 minutes</td>\n",
       "      <td>This event took place in early fall around 194...</td>\n",
       "      <td>4/27/2004</td>\n",
       "      <td>29.8830556</td>\n",
       "      <td>-97.941111</td>\n",
       "    </tr>\n",
       "    <tr>\n",
       "      <th>1</th>\n",
       "      <td>10/10/1949 21:00</td>\n",
       "      <td>lackland afb</td>\n",
       "      <td>tx</td>\n",
       "      <td>NaN</td>\n",
       "      <td>light</td>\n",
       "      <td>7200</td>\n",
       "      <td>1-2 hrs</td>\n",
       "      <td>1949 Lackland AFB&amp;#44 TX.  Lights racing acros...</td>\n",
       "      <td>12/16/2005</td>\n",
       "      <td>29.38421</td>\n",
       "      <td>-98.581082</td>\n",
       "    </tr>\n",
       "    <tr>\n",
       "      <th>2</th>\n",
       "      <td>10/10/1955 17:00</td>\n",
       "      <td>chester (uk/england)</td>\n",
       "      <td>NaN</td>\n",
       "      <td>gb</td>\n",
       "      <td>circle</td>\n",
       "      <td>20</td>\n",
       "      <td>20 seconds</td>\n",
       "      <td>Green/Orange circular disc over Chester&amp;#44 En...</td>\n",
       "      <td>1/21/2008</td>\n",
       "      <td>53.2</td>\n",
       "      <td>-2.916667</td>\n",
       "    </tr>\n",
       "    <tr>\n",
       "      <th>3</th>\n",
       "      <td>10/10/1956 21:00</td>\n",
       "      <td>edna</td>\n",
       "      <td>tx</td>\n",
       "      <td>us</td>\n",
       "      <td>circle</td>\n",
       "      <td>20</td>\n",
       "      <td>1/2 hour</td>\n",
       "      <td>My older brother and twin sister were leaving ...</td>\n",
       "      <td>1/17/2004</td>\n",
       "      <td>28.9783333</td>\n",
       "      <td>-96.645833</td>\n",
       "    </tr>\n",
       "    <tr>\n",
       "      <th>4</th>\n",
       "      <td>10/10/1960 20:00</td>\n",
       "      <td>kaneohe</td>\n",
       "      <td>hi</td>\n",
       "      <td>us</td>\n",
       "      <td>light</td>\n",
       "      <td>900</td>\n",
       "      <td>15 minutes</td>\n",
       "      <td>AS a Marine 1st Lt. flying an FJ4B fighter/att...</td>\n",
       "      <td>1/22/2004</td>\n",
       "      <td>21.4180556</td>\n",
       "      <td>-157.803611</td>\n",
       "    </tr>\n",
       "    <tr>\n",
       "      <th>5</th>\n",
       "      <td>10/10/1961 19:00</td>\n",
       "      <td>bristol</td>\n",
       "      <td>tn</td>\n",
       "      <td>us</td>\n",
       "      <td>sphere</td>\n",
       "      <td>300</td>\n",
       "      <td>5 minutes</td>\n",
       "      <td>My father is now 89 my brother 52 the girl wit...</td>\n",
       "      <td>4/27/2007</td>\n",
       "      <td>36.595</td>\n",
       "      <td>-82.188889</td>\n",
       "    </tr>\n",
       "    <tr>\n",
       "      <th>6</th>\n",
       "      <td>10/10/1965 21:00</td>\n",
       "      <td>penarth (uk/wales)</td>\n",
       "      <td>NaN</td>\n",
       "      <td>gb</td>\n",
       "      <td>circle</td>\n",
       "      <td>180</td>\n",
       "      <td>about 3 mins</td>\n",
       "      <td>penarth uk  circle  3mins  stayed 30ft above m...</td>\n",
       "      <td>2/14/2006</td>\n",
       "      <td>51.434722</td>\n",
       "      <td>-3.180000</td>\n",
       "    </tr>\n",
       "    <tr>\n",
       "      <th>7</th>\n",
       "      <td>10/10/1965 23:45</td>\n",
       "      <td>norwalk</td>\n",
       "      <td>ct</td>\n",
       "      <td>us</td>\n",
       "      <td>disk</td>\n",
       "      <td>1200</td>\n",
       "      <td>20 minutes</td>\n",
       "      <td>A bright orange color changing to reddish colo...</td>\n",
       "      <td>10/2/1999</td>\n",
       "      <td>41.1175</td>\n",
       "      <td>-73.408333</td>\n",
       "    </tr>\n",
       "    <tr>\n",
       "      <th>8</th>\n",
       "      <td>10/10/1966 20:00</td>\n",
       "      <td>pell city</td>\n",
       "      <td>al</td>\n",
       "      <td>us</td>\n",
       "      <td>disk</td>\n",
       "      <td>180</td>\n",
       "      <td>3  minutes</td>\n",
       "      <td>Strobe Lighted disk shape object observed clos...</td>\n",
       "      <td>3/19/2009</td>\n",
       "      <td>33.5861111</td>\n",
       "      <td>-86.286111</td>\n",
       "    </tr>\n",
       "    <tr>\n",
       "      <th>9</th>\n",
       "      <td>10/10/1966 21:00</td>\n",
       "      <td>live oak</td>\n",
       "      <td>fl</td>\n",
       "      <td>us</td>\n",
       "      <td>disk</td>\n",
       "      <td>120</td>\n",
       "      <td>several minutes</td>\n",
       "      <td>Saucer zaps energy from powerline as my pregna...</td>\n",
       "      <td>5/11/2005</td>\n",
       "      <td>30.2947222</td>\n",
       "      <td>-82.984167</td>\n",
       "    </tr>\n",
       "  </tbody>\n",
       "</table>\n",
       "</div>"
      ],
      "text/plain": [
       "          Date_time                  city state/province country UFO_shape  \\\n",
       "0  10/10/1949 20:30            san marcos             tx      us  cylinder   \n",
       "1  10/10/1949 21:00          lackland afb             tx     NaN     light   \n",
       "2  10/10/1955 17:00  chester (uk/england)            NaN      gb    circle   \n",
       "3  10/10/1956 21:00                  edna             tx      us    circle   \n",
       "4  10/10/1960 20:00               kaneohe             hi      us     light   \n",
       "5  10/10/1961 19:00               bristol             tn      us    sphere   \n",
       "6  10/10/1965 21:00    penarth (uk/wales)            NaN      gb    circle   \n",
       "7  10/10/1965 23:45               norwalk             ct      us      disk   \n",
       "8  10/10/1966 20:00             pell city             al      us      disk   \n",
       "9  10/10/1966 21:00              live oak             fl      us      disk   \n",
       "\n",
       "  length_of_encounter_seconds described_duration_of_encounter  \\\n",
       "0                        2700                      45 minutes   \n",
       "1                        7200                         1-2 hrs   \n",
       "2                          20                      20 seconds   \n",
       "3                          20                        1/2 hour   \n",
       "4                         900                      15 minutes   \n",
       "5                         300                       5 minutes   \n",
       "6                         180                    about 3 mins   \n",
       "7                        1200                      20 minutes   \n",
       "8                         180                      3  minutes   \n",
       "9                         120                 several minutes   \n",
       "\n",
       "                                         description date_documented  \\\n",
       "0  This event took place in early fall around 194...       4/27/2004   \n",
       "1  1949 Lackland AFB&#44 TX.  Lights racing acros...      12/16/2005   \n",
       "2  Green/Orange circular disc over Chester&#44 En...       1/21/2008   \n",
       "3  My older brother and twin sister were leaving ...       1/17/2004   \n",
       "4  AS a Marine 1st Lt. flying an FJ4B fighter/att...       1/22/2004   \n",
       "5  My father is now 89 my brother 52 the girl wit...       4/27/2007   \n",
       "6  penarth uk  circle  3mins  stayed 30ft above m...       2/14/2006   \n",
       "7  A bright orange color changing to reddish colo...       10/2/1999   \n",
       "8  Strobe Lighted disk shape object observed clos...       3/19/2009   \n",
       "9  Saucer zaps energy from powerline as my pregna...       5/11/2005   \n",
       "\n",
       "     latitude   longitude  \n",
       "0  29.8830556  -97.941111  \n",
       "1    29.38421  -98.581082  \n",
       "2        53.2   -2.916667  \n",
       "3  28.9783333  -96.645833  \n",
       "4  21.4180556 -157.803611  \n",
       "5      36.595  -82.188889  \n",
       "6   51.434722   -3.180000  \n",
       "7     41.1175  -73.408333  \n",
       "8  33.5861111  -86.286111  \n",
       "9  30.2947222  -82.984167  "
      ]
     },
     "execution_count": 3,
     "metadata": {},
     "output_type": "execute_result"
    }
   ],
   "source": [
    "import pandas as pd\n",
    "import numpy as np\n",
    "import matplotlib.pyplot as plt\n",
    "from wordcloud import WordCloud\n",
    "import seaborn as sns\n",
    "from collections import Counter\n",
    "import re\n",
    "\n",
    "df = pd.read_csv('./ufo_sighting_data.csv')\n",
    "df.head(10)"
   ]
  },
  {
   "cell_type": "code",
   "execution_count": 4,
   "id": "8b0565cd",
   "metadata": {},
   "outputs": [
    {
     "name": "stdout",
     "output_type": "stream",
     "text": [
      "<class 'pandas.core.frame.DataFrame'>\n",
      "RangeIndex: 80332 entries, 0 to 80331\n",
      "Data columns (total 11 columns):\n",
      " #   Column                           Non-Null Count  Dtype  \n",
      "---  ------                           --------------  -----  \n",
      " 0   Date_time                        80332 non-null  object \n",
      " 1   city                             80332 non-null  object \n",
      " 2   state/province                   74535 non-null  object \n",
      " 3   country                          70662 non-null  object \n",
      " 4   UFO_shape                        78400 non-null  object \n",
      " 5   length_of_encounter_seconds      80332 non-null  object \n",
      " 6   described_duration_of_encounter  80332 non-null  object \n",
      " 7   description                      80317 non-null  object \n",
      " 8   date_documented                  80332 non-null  object \n",
      " 9   latitude                         80332 non-null  object \n",
      " 10  longitude                        80332 non-null  float64\n",
      "dtypes: float64(1), object(10)\n",
      "memory usage: 6.7+ MB\n"
     ]
    }
   ],
   "source": [
    "df.info()"
   ]
  },
  {
   "cell_type": "markdown",
   "id": "ff4f2ab8",
   "metadata": {},
   "source": [
    "<div style=\"font-size:20px;\">\n",
    "Check For Duplicates\n",
    "</div>"
   ]
  },
  {
   "cell_type": "code",
   "execution_count": 5,
   "id": "4c938989",
   "metadata": {},
   "outputs": [
    {
     "data": {
      "text/plain": [
       "np.False_"
      ]
     },
     "execution_count": 5,
     "metadata": {},
     "output_type": "execute_result"
    }
   ],
   "source": [
    "df.duplicated().sum().any()"
   ]
  },
  {
   "cell_type": "markdown",
   "id": "4a1185d7",
   "metadata": {},
   "source": [
    "<div style=\"font-size:20px;\">\n",
    "Format column names and drop columns not needed\n",
    "</div>"
   ]
  },
  {
   "cell_type": "code",
   "execution_count": 6,
   "id": "26bb2042",
   "metadata": {},
   "outputs": [],
   "source": [
    "#drop described_duration_of_encounter column\n",
    "df = df.drop(columns=['described_duration_of_encounter', 'date_documented'])\n",
    "\n",
    "#format column values capitalization\n",
    "df['city'] = df['city'].str.title()\n",
    "df['state/province'] = df['state/province'].str.upper()\n",
    "df['country'] = df['country'].str.upper()\n",
    "df['UFO_shape'] = df['UFO_shape'].str.title()"
   ]
  },
  {
   "cell_type": "markdown",
   "id": "7cad1187",
   "metadata": {},
   "source": [
    "<div style=\"font-size:20px;\">\n",
    "Cleaning Date_time column and add time-related columns\n",
    "</div>"
   ]
  },
  {
   "cell_type": "code",
   "execution_count": 7,
   "id": "1d32f917",
   "metadata": {},
   "outputs": [
    {
     "data": {
      "text/plain": [
       "season\n",
       "Summer    26308\n",
       "Autumn    21735\n",
       "Spring    16270\n",
       "Winter    16019\n",
       "Name: count, dtype: int64"
      ]
     },
     "execution_count": 7,
     "metadata": {},
     "output_type": "execute_result"
    }
   ],
   "source": [
    "df = df.rename(columns={'Date_time': 'date_time'})\n",
    "\n",
    "#fix case where hour is 24 (pandas can only handle 0-23)\n",
    "df['date_time'] = df['date_time'].str.replace('24:00', '00:00')\n",
    "df['date_time'] = pd.to_datetime(df['date_time'], format='%m/%d/%Y %H:%M')\n",
    "\n",
    "#add year, month, hour columns\n",
    "df['year'] = df['date_time'].dt.year\n",
    "df['month'] = df['date_time'].dt.month\n",
    "df['hour'] = df['date_time'].dt.hour\n",
    "\n",
    "# Apply the mapping function to create a 'Season' column\n",
    "def map_to_season(timestamp):\n",
    "    month = timestamp.month\n",
    "    if 3 <= month <= 5:\n",
    "        return 'Spring'\n",
    "    elif 6 <= month <= 8:\n",
    "        return 'Summer'\n",
    "    elif 9 <= month <= 11:\n",
    "        return 'Autumn'\n",
    "    else:\n",
    "        return 'Winter'\n",
    "        \n",
    "df['season'] = df['date_time'].apply(map_to_season)\n",
    "df['season'].value_counts()"
   ]
  },
  {
   "cell_type": "markdown",
   "id": "83fd2e0d",
   "metadata": {},
   "source": [
    "<div style=\"font-size:20px;\">\n",
    "Cleaning length_of_encounter_seconds column\n",
    "</div>"
   ]
  },
  {
   "cell_type": "code",
   "execution_count": 8,
   "id": "20a15f68",
   "metadata": {},
   "outputs": [
    {
     "name": "stdout",
     "output_type": "stream",
     "text": [
      "Invalid values: ['2`' '8`' '0.5`']\n"
     ]
    }
   ],
   "source": [
    "#some rows in length_of_encounter_seconds contain symbols\n",
    "invalid_values = df.loc[pd.to_numeric(df['length_of_encounter_seconds'], errors='coerce').isna(), 'length_of_encounter_seconds'].unique()\n",
    "print('Invalid values:', invalid_values)\n",
    "\n",
    "#replace them with empty space to allow subsequent conversion to numeric\n",
    "def remove_backtick(x):\n",
    "    if isinstance(x, str):\n",
    "        return x.replace('`', '')\n",
    "    else:\n",
    "        return x\n",
    "df['length_of_encounter_seconds'] = df['length_of_encounter_seconds'].apply(remove_backtick)"
   ]
  },
  {
   "cell_type": "code",
   "execution_count": 9,
   "id": "0d822827",
   "metadata": {},
   "outputs": [],
   "source": [
    "#format to integer\n",
    "#convert to numeric first, then use round to avoid floats, finally use int64 to avoid non finite values\n",
    "df['length_of_encounter_seconds'] = pd.to_numeric(df['length_of_encounter_seconds'], errors='coerce').round().astype('Int64')"
   ]
  },
  {
   "cell_type": "code",
   "execution_count": 10,
   "id": "d33b3832",
   "metadata": {},
   "outputs": [
    {
     "data": {
      "text/plain": [
       "559      97836000\n",
       "53384    82800000\n",
       "74660    66276000\n",
       "64390    52623200\n",
       "38261    52623200\n",
       "69215    52623200\n",
       "52709    25248000\n",
       "71172    10526400\n",
       "6991     10526400\n",
       "30596    10526400\n",
       "Name: length_of_encounter_seconds, dtype: Int64"
      ]
     },
     "execution_count": 10,
     "metadata": {},
     "output_type": "execute_result"
    }
   ],
   "source": [
    "# check for illogical max/min values that should be clipped\n",
    "# There are second values that are equal to 73 days \n",
    "df['length_of_encounter_seconds'].sort_values(ascending=False).head(10)"
   ]
  },
  {
   "cell_type": "code",
   "execution_count": 11,
   "id": "1bb078d8",
   "metadata": {},
   "outputs": [
    {
     "data": {
      "text/plain": [
       "count       80332.0\n",
       "mean     462.477879\n",
       "std      596.830308\n",
       "min             2.0\n",
       "25%            30.0\n",
       "50%           180.0\n",
       "75%           600.0\n",
       "max          1800.0\n",
       "Name: length_of_encounter_seconds, dtype: Float64"
      ]
     },
     "execution_count": 11,
     "metadata": {},
     "output_type": "execute_result"
    }
   ],
   "source": [
    "#.clip(lower, upper) sets lower and upper bounds that value allows.\n",
    "# now the maximum duration allowed is 14400 seconds, or 4 hours (more logical)\n",
    "for col in df.select_dtypes(include='Int64').columns:\n",
    "    lower = df[col].quantile(0.01)\n",
    "    upper = df[col].quantile(0.90)\n",
    "    df[col] = df[col].clip(lower=lower, upper=upper)\n",
    "\n",
    "df['length_of_encounter_seconds'].describe()"
   ]
  },
  {
   "cell_type": "code",
   "execution_count": 12,
   "id": "927f7d3a",
   "metadata": {},
   "outputs": [
    {
     "data": {
      "image/png": "[encoded data removed]",
      "text/plain": [
       "<Figure size 2000x500 with 1 Axes>"
      ]
     },
     "metadata": {},
     "output_type": "display_data"
    }
   ],
   "source": [
    "#plot distribution of length_of_encounter_seconds\n",
    "plt.figure(figsize=(20,5))\n",
    "plt.boxplot(df['length_of_encounter_seconds'].dropna())\n",
    "plt.xlabel('length_of_encounter_seconds',fontsize=8, weight='bold')\n",
    "plt.tight_layout()"
   ]
  },
  {
   "cell_type": "markdown",
   "id": "aeec9cff",
   "metadata": {},
   "source": [
    "\n",
    "<div style=\"font-size:20px;\">\n",
    "Cleaning long and lat columns\n",
    "</div>"
   ]
  },
  {
   "cell_type": "code",
   "execution_count": 13,
   "id": "92f26f05",
   "metadata": {},
   "outputs": [],
   "source": [
    "# Remove all characters except digits and dots\n",
    "df['latitude'] = df['latitude'].astype(str).str.replace(r'[^0-9.-]', '', regex=True)\n",
    "df['longitude'] = df['longitude'].astype(str).str.replace(r'[^0-9.-]', '', regex=True)\n",
    "\n",
    "# Convert to numeric, coercing errors to NaN (in case empty strings remain)\n",
    "df['latitude'] = pd.to_numeric(df['latitude'], errors='coerce')\n",
    "df['longitude'] = pd.to_numeric(df['longitude'], errors='coerce')"
   ]
  },
  {
   "cell_type": "code",
   "execution_count": 14,
   "id": "261600fa",
   "metadata": {},
   "outputs": [
    {
     "data": {
      "text/plain": [
       "count    80332.000000\n",
       "mean        38.124416\n",
       "std         10.469585\n",
       "min        -82.862752\n",
       "25%         34.134722\n",
       "50%         39.411111\n",
       "75%         42.788333\n",
       "max         72.700000\n",
       "Name: latitude, dtype: float64"
      ]
     },
     "execution_count": 14,
     "metadata": {},
     "output_type": "execute_result"
    }
   ],
   "source": [
    "#check lattitude within range of -90 to 90\n",
    "df['latitude'].describe()"
   ]
  },
  {
   "cell_type": "code",
   "execution_count": 15,
   "id": "49c8ccc8",
   "metadata": {},
   "outputs": [
    {
     "data": {
      "text/plain": [
       "count    80332.000000\n",
       "mean       -86.772885\n",
       "std         39.697205\n",
       "min       -176.658056\n",
       "25%       -112.073333\n",
       "50%        -87.903611\n",
       "75%        -78.755000\n",
       "max        178.441900\n",
       "Name: longitude, dtype: float64"
      ]
     },
     "execution_count": 15,
     "metadata": {},
     "output_type": "execute_result"
    }
   ],
   "source": [
    "#check longitude within range of -180 to 180\n",
    "df['longitude'].describe()"
   ]
  },
  {
   "cell_type": "markdown",
   "id": "06105cb5",
   "metadata": {},
   "source": [
    "<div style=\"font-size:20px;\">\n",
    "Clean the country column and use only America/Canada data\n",
    "</div>"
   ]
  },
  {
   "cell_type": "code",
   "execution_count": null,
   "id": "587ce266",
   "metadata": {},
   "outputs": [],
   "source": [
    "# US State 2-letter abbreviations\n",
    "us_states = [\n",
    "    'AL', 'AK', 'AZ', 'AR', 'CA', 'CO', 'CT', 'DE', 'FL', 'GA',\n",
    "    'HI', 'ID', 'IL', 'IN', 'IA', 'KS', 'KY', 'LA', 'ME', 'MD',\n",
    "    'MA', 'MI', 'MN', 'MS', 'MO', 'MT', 'NE', 'NV', 'NH', 'NJ',\n",
    "    'NM', 'NY', 'NC', 'ND', 'OH', 'OK', 'OR', 'PA', 'RI', 'SC',\n",
    "    'SD', 'TN', 'TX', 'UT', 'VT', 'VA', 'WA', 'WV', 'WI', 'WY']\n",
    "# Canada Province/Territory 2-letter abbreviations\n",
    "canada_provinces = ['AB', 'BC', 'MB', 'NB', 'NL', 'NS', 'NT', 'NU', 'ON', 'PE', 'QC', 'SK', 'YT']\n",
    "\n",
    "# Update country column based on state/province values\n",
    "def assign_country(row):\n",
    "    sp = row['state/province']\n",
    "    if sp in us_states:\n",
    "        return 'US'\n",
    "    elif sp in canada_provinces:\n",
    "        return 'CA'\n",
    "    else:\n",
    "        return row['country']  # keep original if no match\n",
    "\n",
    "df['country'] = df.apply(assign_country, axis=1)\n",
    "\n",
    "#rows where the country is either 'US' or 'CA'.\n",
    "df = df[(df['country'] == 'US') | (df['country'] == 'CA')]"
   ]
  },
  {
   "cell_type": "markdown",
   "id": "b7d38757",
   "metadata": {},
   "source": [
    "<div style=\"font-size:20px;\">\n",
    "Clean the UFO_shape column\n",
    "</div>"
   ]
  },
  {
   "cell_type": "code",
   "execution_count": 17,
   "id": "55ad87d3",
   "metadata": {},
   "outputs": [
    {
     "data": {
      "text/plain": [
       "UFO_shape\n",
       "Light        15415\n",
       "Triangle      7389\n",
       "Circle        6938\n",
       "Fireball      5818\n",
       "Unknown       5235\n",
       "Other         5172\n",
       "Sphere        4969\n",
       "Disk          4776\n",
       "Oval          3442\n",
       "Formation     2276\n",
       "Cigar         1890\n",
       "Changing      1814\n",
       "NaN           1790\n",
       "Flash         1242\n",
       "Rectangle     1216\n",
       "Cylinder      1188\n",
       "Diamond       1072\n",
       "Chevron        911\n",
       "Egg            676\n",
       "Teardrop       673\n",
       "Cone           276\n",
       "Cross          212\n",
       "Delta            7\n",
       "Round            2\n",
       "Crescent         2\n",
       "Pyramid          1\n",
       "Flare            1\n",
       "Hexagon          1\n",
       "Dome             1\n",
       "Changed          1\n",
       "Name: count, dtype: int64"
      ]
     },
     "execution_count": 17,
     "metadata": {},
     "output_type": "execute_result"
    }
   ],
   "source": [
    "df['UFO_shape'].value_counts(dropna=False)"
   ]
  },
  {
   "cell_type": "code",
   "execution_count": 18,
   "id": "e0e24d7b",
   "metadata": {},
   "outputs": [],
   "source": [
    "#check UFO_shape values, fill Nan values into 'unknown'\n",
    "df['UFO_shape'] = df['UFO_shape'].fillna('Unknown')"
   ]
  },
  {
   "cell_type": "markdown",
   "id": "51b2d2ef",
   "metadata": {},
   "source": [
    "<div style=\"font-size:20px;\">\n",
    "Final Check and export\n",
    "</div>"
   ]
  },
  {
   "cell_type": "code",
   "execution_count": 19,
   "id": "67dc0129",
   "metadata": {},
   "outputs": [
    {
     "name": "stdout",
     "output_type": "stream",
     "text": [
      "<class 'pandas.core.frame.DataFrame'>\n",
      "Index: 74406 entries, 0 to 80331\n",
      "Data columns (total 13 columns):\n",
      " #   Column                       Non-Null Count  Dtype         \n",
      "---  ------                       --------------  -----         \n",
      " 0   date_time                    74406 non-null  datetime64[ns]\n",
      " 1   city                         74406 non-null  object        \n",
      " 2   state/province               74391 non-null  object        \n",
      " 3   country                      74406 non-null  object        \n",
      " 4   UFO_shape                    74406 non-null  object        \n",
      " 5   length_of_encounter_seconds  74406 non-null  Int64         \n",
      " 6   description                  74393 non-null  object        \n",
      " 7   latitude                     74406 non-null  float64       \n",
      " 8   longitude                    74406 non-null  float64       \n",
      " 9   year                         74406 non-null  int32         \n",
      " 10  month                        74406 non-null  int32         \n",
      " 11  hour                         74406 non-null  int32         \n",
      " 12  season                       74406 non-null  object        \n",
      "dtypes: Int64(1), datetime64[ns](1), float64(2), int32(3), object(6)\n",
      "memory usage: 7.2+ MB\n"
     ]
    }
   ],
   "source": [
    "df.info()"
   ]
  },
  {
   "cell_type": "code",
   "execution_count": null,
   "id": "4d493bb3",
   "metadata": {},
   "outputs": [
    {
     "data": {
      "text/html": [
       "<div>\n",
       "<style scoped>\n",
       "    .dataframe tbody tr th:only-of-type {\n",
       "        vertical-align: middle;\n",
       "    }\n",
       "\n",
       "    .dataframe tbody tr th {\n",
       "        vertical-align: top;\n",
       "    }\n",
       "\n",
       "    .dataframe thead th {\n",
       "        text-align: right;\n",
       "    }\n",
       "</style>\n",
       "<table border=\"1\" class=\"dataframe\">\n",
       "  <thead>\n",
       "    <tr style=\"text-align: right;\">\n",
       "      <th></th>\n",
       "      <th>date_time</th>\n",
       "      <th>city</th>\n",
       "      <th>state/province</th>\n",
       "      <th>country</th>\n",
       "      <th>UFO_shape</th>\n",
       "      <th>length_of_encounter_seconds</th>\n",
       "      <th>description</th>\n",
       "      <th>latitude</th>\n",
       "      <th>longitude</th>\n",
       "      <th>year</th>\n",
       "      <th>month</th>\n",
       "      <th>hour</th>\n",
       "      <th>season</th>\n",
       "    </tr>\n",
       "    <tr>\n",
       "      <th>sighting_id</th>\n",
       "      <th></th>\n",
       "      <th></th>\n",
       "      <th></th>\n",
       "      <th></th>\n",
       "      <th></th>\n",
       "      <th></th>\n",
       "      <th></th>\n",
       "      <th></th>\n",
       "      <th></th>\n",
       "      <th></th>\n",
       "      <th></th>\n",
       "      <th></th>\n",
       "      <th></th>\n",
       "    </tr>\n",
       "  </thead>\n",
       "  <tbody>\n",
       "    <tr>\n",
       "      <th>0</th>\n",
       "      <td>1949-10-10 20:30:00</td>\n",
       "      <td>San Marcos</td>\n",
       "      <td>TX</td>\n",
       "      <td>US</td>\n",
       "      <td>Cylinder</td>\n",
       "      <td>1800</td>\n",
       "      <td>This event took place in early fall around 194...</td>\n",
       "      <td>29.883056</td>\n",
       "      <td>-97.941111</td>\n",
       "      <td>1949</td>\n",
       "      <td>10</td>\n",
       "      <td>20</td>\n",
       "      <td>Autumn</td>\n",
       "    </tr>\n",
       "    <tr>\n",
       "      <th>1</th>\n",
       "      <td>1949-10-10 21:00:00</td>\n",
       "      <td>Lackland Afb</td>\n",
       "      <td>TX</td>\n",
       "      <td>US</td>\n",
       "      <td>Light</td>\n",
       "      <td>1800</td>\n",
       "      <td>1949 Lackland AFB&amp;#44 TX.  Lights racing acros...</td>\n",
       "      <td>29.384210</td>\n",
       "      <td>-98.581082</td>\n",
       "      <td>1949</td>\n",
       "      <td>10</td>\n",
       "      <td>21</td>\n",
       "      <td>Autumn</td>\n",
       "    </tr>\n",
       "    <tr>\n",
       "      <th>2</th>\n",
       "      <td>1956-10-10 21:00:00</td>\n",
       "      <td>Edna</td>\n",
       "      <td>TX</td>\n",
       "      <td>US</td>\n",
       "      <td>Circle</td>\n",
       "      <td>20</td>\n",
       "      <td>My older brother and twin sister were leaving ...</td>\n",
       "      <td>28.978333</td>\n",
       "      <td>-96.645833</td>\n",
       "      <td>1956</td>\n",
       "      <td>10</td>\n",
       "      <td>21</td>\n",
       "      <td>Autumn</td>\n",
       "    </tr>\n",
       "    <tr>\n",
       "      <th>3</th>\n",
       "      <td>1960-10-10 20:00:00</td>\n",
       "      <td>Kaneohe</td>\n",
       "      <td>HI</td>\n",
       "      <td>US</td>\n",
       "      <td>Light</td>\n",
       "      <td>900</td>\n",
       "      <td>AS a Marine 1st Lt. flying an FJ4B fighter/att...</td>\n",
       "      <td>21.418056</td>\n",
       "      <td>-157.803611</td>\n",
       "      <td>1960</td>\n",
       "      <td>10</td>\n",
       "      <td>20</td>\n",
       "      <td>Autumn</td>\n",
       "    </tr>\n",
       "    <tr>\n",
       "      <th>4</th>\n",
       "      <td>1961-10-10 19:00:00</td>\n",
       "      <td>Bristol</td>\n",
       "      <td>TN</td>\n",
       "      <td>US</td>\n",
       "      <td>Sphere</td>\n",
       "      <td>300</td>\n",
       "      <td>My father is now 89 my brother 52 the girl wit...</td>\n",
       "      <td>36.595000</td>\n",
       "      <td>-82.188889</td>\n",
       "      <td>1961</td>\n",
       "      <td>10</td>\n",
       "      <td>19</td>\n",
       "      <td>Autumn</td>\n",
       "    </tr>\n",
       "    <tr>\n",
       "      <th>...</th>\n",
       "      <td>...</td>\n",
       "      <td>...</td>\n",
       "      <td>...</td>\n",
       "      <td>...</td>\n",
       "      <td>...</td>\n",
       "      <td>...</td>\n",
       "      <td>...</td>\n",
       "      <td>...</td>\n",
       "      <td>...</td>\n",
       "      <td>...</td>\n",
       "      <td>...</td>\n",
       "      <td>...</td>\n",
       "      <td>...</td>\n",
       "    </tr>\n",
       "    <tr>\n",
       "      <th>74401</th>\n",
       "      <td>2013-09-09 21:15:00</td>\n",
       "      <td>Nashville</td>\n",
       "      <td>TN</td>\n",
       "      <td>US</td>\n",
       "      <td>Light</td>\n",
       "      <td>600</td>\n",
       "      <td>Round from the distance/slowly changing colors...</td>\n",
       "      <td>36.165833</td>\n",
       "      <td>-86.784444</td>\n",
       "      <td>2013</td>\n",
       "      <td>9</td>\n",
       "      <td>21</td>\n",
       "      <td>Autumn</td>\n",
       "    </tr>\n",
       "    <tr>\n",
       "      <th>74402</th>\n",
       "      <td>2013-09-09 22:00:00</td>\n",
       "      <td>Boise</td>\n",
       "      <td>ID</td>\n",
       "      <td>US</td>\n",
       "      <td>Circle</td>\n",
       "      <td>1200</td>\n",
       "      <td>Boise&amp;#44 ID&amp;#44 spherical&amp;#44 20 min&amp;#44 10 r...</td>\n",
       "      <td>43.613611</td>\n",
       "      <td>-116.202500</td>\n",
       "      <td>2013</td>\n",
       "      <td>9</td>\n",
       "      <td>22</td>\n",
       "      <td>Autumn</td>\n",
       "    </tr>\n",
       "    <tr>\n",
       "      <th>74403</th>\n",
       "      <td>2013-09-09 22:00:00</td>\n",
       "      <td>Napa</td>\n",
       "      <td>CA</td>\n",
       "      <td>US</td>\n",
       "      <td>Other</td>\n",
       "      <td>1200</td>\n",
       "      <td>Napa UFO&amp;#44</td>\n",
       "      <td>38.297222</td>\n",
       "      <td>-122.284444</td>\n",
       "      <td>2013</td>\n",
       "      <td>9</td>\n",
       "      <td>22</td>\n",
       "      <td>Autumn</td>\n",
       "    </tr>\n",
       "    <tr>\n",
       "      <th>74404</th>\n",
       "      <td>2013-09-09 22:20:00</td>\n",
       "      <td>Vienna</td>\n",
       "      <td>VA</td>\n",
       "      <td>US</td>\n",
       "      <td>Circle</td>\n",
       "      <td>5</td>\n",
       "      <td>Saw a five gold lit cicular craft moving fastl...</td>\n",
       "      <td>38.901111</td>\n",
       "      <td>-77.265556</td>\n",
       "      <td>2013</td>\n",
       "      <td>9</td>\n",
       "      <td>22</td>\n",
       "      <td>Autumn</td>\n",
       "    </tr>\n",
       "    <tr>\n",
       "      <th>74405</th>\n",
       "      <td>2013-09-09 23:00:00</td>\n",
       "      <td>Edmond</td>\n",
       "      <td>OK</td>\n",
       "      <td>US</td>\n",
       "      <td>Cigar</td>\n",
       "      <td>1020</td>\n",
       "      <td>2 witnesses 2  miles apart&amp;#44 Red &amp;amp; White...</td>\n",
       "      <td>35.652778</td>\n",
       "      <td>-97.477778</td>\n",
       "      <td>2013</td>\n",
       "      <td>9</td>\n",
       "      <td>23</td>\n",
       "      <td>Autumn</td>\n",
       "    </tr>\n",
       "  </tbody>\n",
       "</table>\n",
       "<p>74406 rows × 13 columns</p>\n",
       "</div>"
      ],
      "text/plain": [
       "                      date_time          city state/province country  \\\n",
       "sighting_id                                                            \n",
       "0           1949-10-10 20:30:00    San Marcos             TX      US   \n",
       "1           1949-10-10 21:00:00  Lackland Afb             TX      US   \n",
       "2           1956-10-10 21:00:00          Edna             TX      US   \n",
       "3           1960-10-10 20:00:00       Kaneohe             HI      US   \n",
       "4           1961-10-10 19:00:00       Bristol             TN      US   \n",
       "...                         ...           ...            ...     ...   \n",
       "74401       2013-09-09 21:15:00     Nashville             TN      US   \n",
       "74402       2013-09-09 22:00:00         Boise             ID      US   \n",
       "74403       2013-09-09 22:00:00          Napa             CA      US   \n",
       "74404       2013-09-09 22:20:00        Vienna             VA      US   \n",
       "74405       2013-09-09 23:00:00        Edmond             OK      US   \n",
       "\n",
       "            UFO_shape  length_of_encounter_seconds  \\\n",
       "sighting_id                                          \n",
       "0            Cylinder                         1800   \n",
       "1               Light                         1800   \n",
       "2              Circle                           20   \n",
       "3               Light                          900   \n",
       "4              Sphere                          300   \n",
       "...               ...                          ...   \n",
       "74401           Light                          600   \n",
       "74402          Circle                         1200   \n",
       "74403           Other                         1200   \n",
       "74404          Circle                            5   \n",
       "74405           Cigar                         1020   \n",
       "\n",
       "                                                   description   latitude  \\\n",
       "sighting_id                                                                 \n",
       "0            This event took place in early fall around 194...  29.883056   \n",
       "1            1949 Lackland AFB&#44 TX.  Lights racing acros...  29.384210   \n",
       "2            My older brother and twin sister were leaving ...  28.978333   \n",
       "3            AS a Marine 1st Lt. flying an FJ4B fighter/att...  21.418056   \n",
       "4            My father is now 89 my brother 52 the girl wit...  36.595000   \n",
       "...                                                        ...        ...   \n",
       "74401        Round from the distance/slowly changing colors...  36.165833   \n",
       "74402        Boise&#44 ID&#44 spherical&#44 20 min&#44 10 r...  43.613611   \n",
       "74403                                             Napa UFO&#44  38.297222   \n",
       "74404        Saw a five gold lit cicular craft moving fastl...  38.901111   \n",
       "74405        2 witnesses 2  miles apart&#44 Red &amp; White...  35.652778   \n",
       "\n",
       "              longitude  year  month  hour  season  \n",
       "sighting_id                                         \n",
       "0            -97.941111  1949     10    20  Autumn  \n",
       "1            -98.581082  1949     10    21  Autumn  \n",
       "2            -96.645833  1956     10    21  Autumn  \n",
       "3           -157.803611  1960     10    20  Autumn  \n",
       "4            -82.188889  1961     10    19  Autumn  \n",
       "...                 ...   ...    ...   ...     ...  \n",
       "74401        -86.784444  2013      9    21  Autumn  \n",
       "74402       -116.202500  2013      9    22  Autumn  \n",
       "74403       -122.284444  2013      9    22  Autumn  \n",
       "74404        -77.265556  2013      9    22  Autumn  \n",
       "74405        -97.477778  2013      9    23  Autumn  \n",
       "\n",
       "[74406 rows x 13 columns]"
      ]
     },
     "execution_count": 20,
     "metadata": {},
     "output_type": "execute_result"
    }
   ],
   "source": [
    "#reset index to match the number of rows (because we dropped some rows during cleaning)\n",
    "df = df.reset_index(drop=True)\n",
    "#rename index to create a primary key for the table\n",
    "df.index.name = 'sighting_id'\n",
    "df.to_csv('ufo_sighting_data_cleaned.csv')\n",
    "df"
   ]
  },
  {
   "cell_type": "code",
   "execution_count": 21,
   "id": "91b127f9",
   "metadata": {},
   "outputs": [
    {
     "data": {
      "image/png": "[encoded data removed]",
      "text/plain": [
       "<Figure size 640x480 with 1 Axes>"
      ]
     },
     "metadata": {},
     "output_type": "display_data"
    }
   ],
   "source": [
    "import seaborn as sns\n",
    "\n",
    "# Boxplot of duration by UFO shape\n",
    "shape_order = df['UFO_shape'].value_counts().index\n",
    "sns.boxplot(x='UFO_shape', y='length_of_encounter_seconds', data=df, order=shape_order)\n",
    "plt.xticks(rotation=90)\n",
    "plt.tight_layout()  \n",
    "plt.show()"
   ]
  }
 ],
 "metadata": {
  "kernelspec": {
   "display_name": "ufo_sighting_analysis",
   "language": "python",
   "name": "ufo_sighting_analysis"
  },
  "language_info": {
   "codemirror_mode": {
    "name": "ipython",
    "version": 3
   },
   "file_extension": ".py",
   "mimetype": "text/x-python",
   "name": "python",
   "nbconvert_exporter": "python",
   "pygments_lexer": "ipython3",
   "version": "3.13.7"
  }
 },
 "nbformat": 4,
 "nbformat_minor": 5
}
